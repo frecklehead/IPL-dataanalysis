{
  "cells": [
    {
      "cell_type": "markdown",
      "metadata": {
        "id": "view-in-github",
        "colab_type": "text"
      },
      "source": [
        "<a href=\"https://colab.research.google.com/github/frecklehead/IPL-dataanalysis/blob/main/stock_price_predictiopn.ipynb\" target=\"_parent\"><img src=\"https://colab.research.google.com/assets/colab-badge.svg\" alt=\"Open In Colab\"/></a>"
      ]
    },
    {
      "cell_type": "code",
      "execution_count": null,
      "metadata": {
        "id": "A5nApJfsIeue"
      },
      "outputs": [],
      "source": [
        "\n",
        "import numpy as np\n",
        "import pandas as pd\n",
        "import matplotlib.pyplot as plt\n",
        "from sklearn.preprocessing import MinMaxScaler\n",
        "from tensorflow.keras.models import Sequential\n",
        "from tensorflow.keras.layers import LSTM, Dense\n",
        "import pandas_datareader as pdr\n",
        "import datetime\n",
        "import yfinance as yf\n",
        "\n",
        "\n"
      ]
    },
    {
      "cell_type": "code",
      "execution_count": null,
      "metadata": {
        "colab": {
          "base_uri": "https://localhost:8080/"
        },
        "id": "5RbQxTJLIvZL",
        "outputId": "f3aa75bf-d5f5-4344-98d6-a5c77a731559"
      },
      "outputs": [
        {
          "name": "stderr",
          "output_type": "stream",
          "text": [
            "\r[*********************100%%**********************]  1 of 1 completed"
          ]
        },
        {
          "name": "stdout",
          "output_type": "stream",
          "text": [
            "                Open      High       Low     Close  Adj Close     Volume\n",
            "Date                                                                    \n",
            "2010-01-04  7.622500  7.660714  7.585000  7.643214   6.461976  493729600\n",
            "2010-01-05  7.664286  7.699643  7.616071  7.656429   6.473148  601904800\n",
            "2010-01-06  7.656429  7.686786  7.526786  7.534643   6.370183  552160000\n",
            "2010-01-07  7.562500  7.571429  7.466071  7.520714   6.358408  477131200\n",
            "2010-01-08  7.510714  7.571429  7.466429  7.570714   6.400682  447610800\n"
          ]
        },
        {
          "name": "stderr",
          "output_type": "stream",
          "text": [
            "\n"
          ]
        }
      ],
      "source": [
        "start = datetime.datetime(2010, 1, 1)\n",
        "end = datetime.datetime(2020, 1, 1)\n",
        "df = yf.download('AAPL', start=start, end=end)\n",
        "print(df.head())\n"
      ]
    },
    {
      "cell_type": "markdown",
      "metadata": {
        "id": "CPnNm0GiI9CY"
      },
      "source": [
        "scaling the data"
      ]
    },
    {
      "cell_type": "code",
      "execution_count": null,
      "metadata": {
        "id": "8z6HwkOBJ8CQ"
      },
      "outputs": [],
      "source": [
        "scaler = MinMaxScaler(feature_range=(0,1))\n",
        "scaled_data = scaler.fit_transform(df['Close'].values.reshape(-1,1))"
      ]
    },
    {
      "cell_type": "markdown",
      "metadata": {
        "id": "EH27dyHWKDP1"
      },
      "source": [
        "training"
      ]
    },
    {
      "cell_type": "code",
      "execution_count": null,
      "metadata": {
        "id": "VxK_VOTIKLPh"
      },
      "outputs": [],
      "source": [
        "sequence_length = 60\n",
        "X_train = []\n",
        "y_train = []\n",
        "for x in range(sequence_length, len(scaled_data)):\n",
        "    X_train.append(scaled_data[x-sequence_length:x, 0])\n",
        "    y_train.append(scaled_data[x, 0])\n",
        "\n",
        "X_train, y_train = np.array(X_train), np.array(y_train)\n",
        "X_train = np.reshape(X_train, (X_train.shape[0], X_train.shape[1], 1))"
      ]
    },
    {
      "cell_type": "markdown",
      "metadata": {
        "id": "EgokMfNJKMFN"
      },
      "source": [
        "build the model"
      ]
    },
    {
      "cell_type": "code",
      "execution_count": null,
      "metadata": {
        "id": "WZcD63dNKUVX"
      },
      "outputs": [],
      "source": [
        "model = Sequential()\n",
        "model.add(LSTM(units=50, return_sequences=True, input_shape=(X_train.shape[1], 1)))\n",
        "model.add(LSTM(units=50))\n",
        "model.add(Dense(units=1))\n",
        "\n",
        "model.compile(optimizer='adam', loss='mean_squared_error')"
      ]
    },
    {
      "cell_type": "markdown",
      "metadata": {
        "id": "5JdyYk-GKVG8"
      },
      "source": [
        "train it"
      ]
    },
    {
      "cell_type": "code",
      "execution_count": null,
      "metadata": {
        "colab": {
          "background_save": true,
          "base_uri": "https://localhost:8080/"
        },
        "id": "O0RdRkblKaW5",
        "outputId": "67988bc0-aa98-4d3f-e418-0c132fdb76ea"
      },
      "outputs": [
        {
          "name": "stdout",
          "output_type": "stream",
          "text": [
            "Epoch 1/25\n",
            "77/77 [==============================] - 9s 47ms/step - loss: 0.0095\n",
            "Epoch 2/25\n",
            "77/77 [==============================] - 4s 50ms/step - loss: 3.2877e-04\n",
            "Epoch 3/25\n",
            "77/77 [==============================] - 5s 63ms/step - loss: 3.0042e-04\n",
            "Epoch 4/25\n",
            "77/77 [==============================] - 4s 47ms/step - loss: 2.9697e-04\n",
            "Epoch 5/25\n",
            "77/77 [==============================] - 4s 47ms/step - loss: 2.7338e-04\n",
            "Epoch 6/25\n",
            "77/77 [==============================] - 5s 65ms/step - loss: 2.7671e-04\n",
            "Epoch 7/25\n",
            "77/77 [==============================] - 4s 47ms/step - loss: 2.4315e-04\n",
            "Epoch 8/25\n",
            "77/77 [==============================] - 4s 47ms/step - loss: 2.2805e-04\n",
            "Epoch 9/25\n",
            "77/77 [==============================] - 5s 62ms/step - loss: 2.1473e-04\n",
            "Epoch 10/25\n",
            "77/77 [==============================] - 4s 49ms/step - loss: 2.0178e-04\n",
            "Epoch 11/25\n",
            "77/77 [==============================] - 4s 47ms/step - loss: 2.1078e-04\n",
            "Epoch 12/25\n",
            "77/77 [==============================] - 4s 52ms/step - loss: 2.0133e-04\n",
            "Epoch 13/25\n",
            "77/77 [==============================] - 5s 60ms/step - loss: 2.0468e-04\n",
            "Epoch 14/25\n",
            "77/77 [==============================] - 4s 47ms/step - loss: 1.8050e-04\n",
            "Epoch 15/25\n",
            "77/77 [==============================] - 4s 47ms/step - loss: 1.9477e-04\n",
            "Epoch 16/25\n",
            "77/77 [==============================] - 5s 70ms/step - loss: 1.8333e-04\n",
            "Epoch 17/25\n",
            "77/77 [==============================] - 4s 48ms/step - loss: 1.6583e-04\n",
            "Epoch 18/25\n",
            "77/77 [==============================] - 4s 47ms/step - loss: 1.6701e-04\n",
            "Epoch 19/25\n",
            "77/77 [==============================] - 5s 65ms/step - loss: 2.0929e-04\n",
            "Epoch 20/25\n",
            "77/77 [==============================] - 4s 49ms/step - loss: 1.5833e-04\n",
            "Epoch 21/25\n",
            "77/77 [==============================] - 4s 47ms/step - loss: 1.7239e-04\n",
            "Epoch 22/25\n",
            "77/77 [==============================] - 4s 53ms/step - loss: 1.5295e-04\n",
            "Epoch 23/25\n",
            "77/77 [==============================] - 5s 61ms/step - loss: 1.5026e-04\n",
            "Epoch 24/25\n",
            "77/77 [==============================] - 4s 47ms/step - loss: 1.3881e-04\n",
            "Epoch 25/25\n",
            "77/77 [==============================] - 4s 56ms/step - loss: 1.4735e-04\n"
          ]
        },
        {
          "data": {
            "text/plain": [
              "<keras.src.callbacks.History at 0x79f94c45cfd0>"
            ]
          },
          "execution_count": 9,
          "metadata": {},
          "output_type": "execute_result"
        }
      ],
      "source": [
        "model.fit(X_train, y_train, epochs=25, batch_size=32)"
      ]
    },
    {
      "cell_type": "code",
      "execution_count": null,
      "metadata": {
        "id": "VroSrUvRKbEx"
      },
      "outputs": [],
      "source": []
    }
  ],
  "metadata": {
    "colab": {
      "provenance": [],
      "authorship_tag": "ABX9TyPjMsXr5QJp2Udi0nbwYTgc",
      "include_colab_link": true
    },
    "kernelspec": {
      "display_name": "Python 3",
      "name": "python3"
    },
    "language_info": {
      "name": "python"
    }
  },
  "nbformat": 4,
  "nbformat_minor": 0
}